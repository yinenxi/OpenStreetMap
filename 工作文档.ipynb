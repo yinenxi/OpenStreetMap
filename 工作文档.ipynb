{
 "cells": [
  {
   "cell_type": "markdown",
   "metadata": {},
   "source": [
    "# OpenStreetMap项目"
   ]
  },
  {
   "cell_type": "markdown",
   "metadata": {},
   "source": [
    "### 选择区域\n",
    "北京市，纬度39.7942到40.0408 经度116.1535到116.6046\n",
    "### 区域地图链接\n",
    "https://www.openstreetmap.org/export#map=10/39.9066/116.3905"
   ]
  },
  {
   "cell_type": "markdown",
   "metadata": {},
   "source": [
    "选择北京市的原因在于北京是中国的首都，被全球最权威的世界城市研究机构之一GaWC评为世界一线城市，也是首批国家历史文化名城和世界上拥有世界文化遗产数最多的城市，我很喜欢北京。"
   ]
  },
  {
   "cell_type": "markdown",
   "metadata": {},
   "source": [
    "### 文件大小"
   ]
  },
  {
   "cell_type": "code",
   "execution_count": 4,
   "metadata": {
    "scrolled": true
   },
   "outputs": [
    {
     "name": "stdout",
     "output_type": "stream",
     "text": [
      "beijingmap.osm:  92.36 MB\n"
     ]
    }
   ],
   "source": [
    "import os \n",
    "\n",
    "size = os.path.getsize(\"/Users/user/beijingmap.osm\")\n",
    "print 'beijingmap.osm:  %0.2f MB'% (size/1024.0/1024.0) "
   ]
  },
  {
   "cell_type": "code",
   "execution_count": null,
   "metadata": {},
   "outputs": [],
   "source": [
    "ops.db ................ 56 MB\n",
    "nodes.csv ............. 32.9 MB\n",
    "nodes_tags.csv ........ 2 MB\n",
    "ways.csv .............. 4.3 MB\n",
    "ways_tags.csv ......... 5 MB\n",
    "ways_nodes.cv ......... 11.5 MB "
   ]
  },
  {
   "cell_type": "markdown",
   "metadata": {},
   "source": [
    "### 项目中遇到的问题\n",
    "街道名称比较乱:\n",
    "\n",
    "1、大街(Avenue)有“Ave”，有“ave.”来表示的。\n",
    "\n",
    "2、街(Jie)有“jie”来表示的，街道(Street)有“St”，有“Str”，还有“street”来表示的。\n",
    "\n",
    "3、道路(Road)有“Rd”、“Rd,”、“Rd.”、“road”多种表示法，既不统一也不规范。"
   ]
  },
  {
   "cell_type": "markdown",
   "metadata": {},
   "source": [
    "### 街道名称问题\n",
    "将规范的街道名称提取出来，按照预期处理"
   ]
  },
  {
   "cell_type": "code",
   "execution_count": null,
   "metadata": {},
   "outputs": [],
   "source": [
    "for _, street in st_types.iteritems():    \n",
    "    for name in street:\n",
    "        if street_type_re.search(name).group() in mapping.keys():              \n",
    "            better_name = name.replace(street_type_re.search(name).group(), \n",
    "                    mapping[street_type_re.search(name).group()])    \n",
    "            streets_repair[street_id(name)] = better_name\n",
    "            print name, \"->\", better_name"
   ]
  },
  {
   "cell_type": "markdown",
   "metadata": {},
   "source": [
    "如下所示，经过处理后，不规范的街道名称变得统一"
   ]
  },
  {
   "cell_type": "code",
   "execution_count": null,
   "metadata": {},
   "outputs": [],
   "source": [
    "Yang Shan Rd, -> Yang Shan Road\n",
    "chaoyang -> Chaoyang\n",
    "19 Ritan. Bei Lu, Chaoyang district -> 19 Ritan. Bei Lu, Chaoyang District\n",
    "east chang ave. -> east chang Avenue\n",
    "Dongzhimen Outer St, Chaoyang, -> Dongzhimen Outer St, Chaoyang\n",
    "North St -> North Street\n",
    "Chongwenmen Wai St -> Chongwenmen Wai Street\n",
    "Tie shu xie jie -> Tie shu xie Jie\n",
    "W. Dazhalan Str -> W. Dazhalan Street\n",
    "Xizhaosi Str -> Xizhaosi Street\n",
    "Guozijian Str -> Guozijian Street\n",
    "Maliandao Rd. -> Maliandao Road\n",
    "Jiangtai road -> Jiangtai Road\n",
    "B2 jiangtai road -> B2 jiangtai Road"
   ]
  },
  {
   "cell_type": "markdown",
   "metadata": {},
   "source": [
    "## 清洗之后的数据导入SQL数据库\n"
   ]
  },
  {
   "cell_type": "markdown",
   "metadata": {},
   "source": [
    "### 查看唯一用户的数量"
   ]
  },
  {
   "cell_type": "code",
   "execution_count": null,
   "metadata": {},
   "outputs": [],
   "source": [
    "sqlite> SELECT count(*)\n",
    "   ...> FROM (\n",
    "   ...> SELECT nodes.user, COUNT(*) as num\n",
    "   ...> FROM nodes,ways_nodes,ways\n",
    "   ...> WHERE nodes.id = ways_nodes.node_id and ways_nodes.id = ways.id\n",
    "   ...> GROUP BY nodes.uid) as fe;"
   ]
  },
  {
   "cell_type": "markdown",
   "metadata": {},
   "source": [
    "1000"
   ]
  },
  {
   "cell_type": "markdown",
   "metadata": {},
   "source": [
    "### 贡献地图的人top10:"
   ]
  },
  {
   "cell_type": "code",
   "execution_count": null,
   "metadata": {},
   "outputs": [],
   "source": [
    "sqlite> SELECT nodes.user, COUNT(*) as num\n",
    "   ...> FROM nodes\n",
    "   ...> JOIN ways_nodes\n",
    "   ...> ON nodes.id = ways_nodes.node_id\n",
    "   ...> JOIN ways\n",
    "   ...> ON ways_nodes.id = ways.id\n",
    "   ...> GROUP BY nodes.uid\n",
    "   ...> ORDER BY num DESC\n",
    "   ...> LIMIT 10;"
   ]
  },
  {
   "cell_type": "markdown",
   "metadata": {},
   "source": [
    "输出结果：\n",
    "R438,98624\n",
    "\"Алекс Мок\",67644\n",
    "hanchao,42239\n",
    "\"Chen Jia\",35029\n",
    "m17design,18628\n",
    "nuklearerWintersturm,18407\n",
    "RationalTangle,12800\n",
    "Esperanza36,11306\n",
    "Popolon,7270\n",
    "MrBoot,5502"
   ]
  },
  {
   "cell_type": "markdown",
   "metadata": {},
   "source": [
    "贡献最多的人为“R438”，共98624条记录"
   ]
  },
  {
   "cell_type": "markdown",
   "metadata": {},
   "source": [
    "### 查看节点数量"
   ]
  },
  {
   "cell_type": "code",
   "execution_count": null,
   "metadata": {},
   "outputs": [],
   "source": [
    "SELECT COUNT(*) FROM nodes;"
   ]
  },
  {
   "cell_type": "markdown",
   "metadata": {},
   "source": [
    "node节点数：390672\n"
   ]
  },
  {
   "cell_type": "markdown",
   "metadata": {},
   "source": [
    "### 查看途径数量"
   ]
  },
  {
   "cell_type": "code",
   "execution_count": null,
   "metadata": {},
   "outputs": [],
   "source": [
    "SELECT COUNT(*) FROM ways;"
   ]
  },
  {
   "cell_type": "markdown",
   "metadata": {},
   "source": [
    "ways数：71277"
   ]
  },
  {
   "cell_type": "markdown",
   "metadata": {},
   "source": [
    "### 查看北京建筑类型的数量"
   ]
  },
  {
   "cell_type": "code",
   "execution_count": null,
   "metadata": {},
   "outputs": [],
   "source": [
    "sqlite> SELECT value, COUNT(*) as num\n",
    "   ...> FROM nodes_tags\n",
    "   ...> WHERE key='amenity'\n",
    "   ...> GROUP BY value\n",
    "   ...> ORDER BY num DESC\n",
    "   ...> LIMIT 10;"
   ]
  },
  {
   "cell_type": "markdown",
   "metadata": {},
   "source": [
    "输出结果：\n",
    "restaurant,1335\n",
    "bank,422\n",
    "fast_food,310\n",
    "cafe,288\n",
    "toilets,285\n",
    "parking,165\n",
    "bar,162\n",
    "telephone,148\n",
    "school,129\n",
    "atm,101"
   ]
  },
  {
   "cell_type": "markdown",
   "metadata": {},
   "source": [
    "结果显示所选北京区域的饭店最多，有1335家。学校有129所，可见北京对教育很重视，人口也比较多。"
   ]
  },
  {
   "cell_type": "markdown",
   "metadata": {},
   "source": [
    "## 额外的数据探索\n",
    "### 查看北京的道路情况"
   ]
  },
  {
   "cell_type": "code",
   "execution_count": null,
   "metadata": {},
   "outputs": [],
   "source": [
    "sqlite> SELECT nodes_tags.value, count(*) as num\n",
    "   ...> FROM ways_tags,ways,ways_nodes,nodes,nodes_tags\n",
    "   ...> WHERE ways_tags.id = ways.id and ways.id = ways_nodes.id and \n",
    "ways_nodes.node_id = nodes.id and nodes.id = nodes_tags.id and nodes_tags.key = 'highway'\n",
    "   ...> GROUP BY nodes_tags.value\n",
    "   ...> ORDER BY num desc\n",
    "   ...> LIMIT 5;"
   ]
  },
  {
   "cell_type": "markdown",
   "metadata": {},
   "source": [
    "输出结果：\n",
    "traffic_signals,38693\n",
    "bus_stop,12450\n",
    "crossing,4883\n",
    "motorway_junction,3412\n",
    "platform,77"
   ]
  },
  {
   "cell_type": "markdown",
   "metadata": {},
   "source": [
    "道路上最多的是交通信号灯，其次是公交车站和十字路口。"
   ]
  },
  {
   "cell_type": "markdown",
   "metadata": {},
   "source": [
    "### 查看辐射最广的宗教(top3)"
   ]
  },
  {
   "cell_type": "code",
   "execution_count": null,
   "metadata": {},
   "outputs": [],
   "source": [
    "sqlite> SELECT nodes_tags.value, COUNT(*) as num\n",
    "   ...> FROM nodes_tags\n",
    "   ...> JOIN (SELECT DISTINCT(id) FROM nodes_tags WHERE\n",
    "   ...> value='place_of_worship') dis\n",
    "   ...> ON nodes_tags.id=dis.id\n",
    "   ...> WHERE nodes_tags.key='religion'\n",
    "   ...> GROUP BY nodes_tags.value\n",
    "   ...> ORDER BY num DESC\n",
    "   ...> LIMIT 3;"
   ]
  },
  {
   "cell_type": "markdown",
   "metadata": {},
   "source": [
    "输出结果：\n",
    "buddhist,8\n",
    "christian,4\n",
    "muslim,2"
   ]
  },
  {
   "cell_type": "markdown",
   "metadata": {},
   "source": [
    "可以看到信佛教的人最多，其次是天主教，第三为穆斯林教。由于所选的区域比较小，关于宗教信仰的结果很少。"
   ]
  },
  {
   "cell_type": "markdown",
   "metadata": {},
   "source": [
    "### 查看最受欢迎的菜系(top5)"
   ]
  },
  {
   "cell_type": "code",
   "execution_count": null,
   "metadata": {},
   "outputs": [],
   "source": [
    "sqlite> SELECT nodes_tags.value, COUNT(*) as num\n",
    "   ...> FROM nodes_tags\n",
    "   ...> JOIN (SELECT DISTINCT(id) FROM nodes_tags WHERE value='restaurant') i\n",
    "   ...> ON nodes_tags.id=i.id\n",
    "   ...> WHERE nodes_tags.key='cuisine'\n",
    "   ...> GROUP BY nodes_tags.value\n",
    "   ...> ORDER BY num DESC\n",
    "   ...> LIMIT 5;"
   ]
  },
  {
   "cell_type": "markdown",
   "metadata": {},
   "source": [
    "输出结果：\n",
    "chinese,168\n",
    "japanese,19\n",
    "italian,17\n",
    "pizza;american,15\n",
    "international,10"
   ]
  },
  {
   "cell_type": "markdown",
   "metadata": {},
   "source": [
    "中国菜是最受欢迎的这一点毫无疑问，其次是日本料理，意大利菜，美式料理，国际菜"
   ]
  },
  {
   "cell_type": "markdown",
   "metadata": {},
   "source": [
    "## 额外建议"
   ]
  },
  {
   "cell_type": "markdown",
   "metadata": {},
   "source": [
    "项目所使用的数据集不完整，部分属性格式不统一，可以看到很多数据会有所缺失，要么属性没有，要么名称没有，对于精确度要求较高的话，openstreetmap数据集是达不到要求的，需要官方进一步去完善。"
   ]
  },
  {
   "cell_type": "markdown",
   "metadata": {},
   "source": [
    "### 好处"
   ]
  },
  {
   "cell_type": "markdown",
   "metadata": {},
   "source": [
    "如果数据集能得到完善，后期任何人在解析该数据集的时候会方便得多，也更容易从数据集中获得自己需要的有价值的信息。"
   ]
  },
  {
   "cell_type": "markdown",
   "metadata": {},
   "source": [
    "### 预期问题"
   ]
  },
  {
   "cell_type": "markdown",
   "metadata": {},
   "source": [
    "由于绘制openstreetmap的人形形色色，每个人的想法、习惯不同，对地图的补充也是自发行为，很难在格式、标准、完整性等各个方面上做到统一。"
   ]
  },
  {
   "cell_type": "markdown",
   "metadata": {},
   "source": [
    "## 参考资料"
   ]
  },
  {
   "cell_type": "markdown",
   "metadata": {},
   "source": [
    "清洗osm数据并转换成csv部分引用Udacity课程中的代码(案例研究：OpenStreetMap数据[SQL] )"
   ]
  }
 ],
 "metadata": {
  "kernelspec": {
   "display_name": "Python 3",
   "language": "python",
   "name": "python3"
  },
  "language_info": {
   "codemirror_mode": {
    "name": "ipython",
    "version": 3
   },
   "file_extension": ".py",
   "mimetype": "text/x-python",
   "name": "python",
   "nbconvert_exporter": "python",
   "pygments_lexer": "ipython3",
   "version": "3.6.4"
  }
 },
 "nbformat": 4,
 "nbformat_minor": 2
}
